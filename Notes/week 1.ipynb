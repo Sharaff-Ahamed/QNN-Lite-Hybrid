{
 "cells": [
  {
   "cell_type": "code",
   "execution_count": 1,
   "id": "5e15412b",
   "metadata": {},
   "outputs": [
    {
     "name": "stdout",
     "output_type": "stream",
     "text": [
      "Hllo, World!\n"
     ]
    }
   ],
   "source": [
    "print(\"Hllo, World!\")"
   ]
  },
  {
   "cell_type": "code",
   "execution_count": null,
   "id": "d0b861d8",
   "metadata": {},
   "outputs": [],
   "source": []
  }
 ],
 "metadata": {
  "kernelspec": {
   "display_name": "quantum_env",
   "language": "python",
   "name": "python3"
  },
  "language_info": {
   "codemirror_mode": {
    "name": "ipython",
    "version": 3
   },
   "file_extension": ".py",
   "mimetype": "text/x-python",
   "name": "python",
   "nbconvert_exporter": "python",
   "pygments_lexer": "ipython3",
   "version": "3.13.7"
  }
 },
 "nbformat": 4,
 "nbformat_minor": 5
}
